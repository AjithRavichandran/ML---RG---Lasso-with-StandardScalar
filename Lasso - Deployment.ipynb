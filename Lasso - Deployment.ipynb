{
 "cells": [
  {
   "cell_type": "code",
   "execution_count": 54,
   "id": "f7cb7160-a6c8-46f6-940e-450245dbb3d1",
   "metadata": {},
   "outputs": [],
   "source": [
    "import pickle"
   ]
  },
  {
   "cell_type": "code",
   "execution_count": 55,
   "id": "1d6e4e1d-fac7-492c-b92d-44a639204636",
   "metadata": {},
   "outputs": [],
   "source": [
    "load=pickle.load(open('Final - Lasso with StandardScalar','rb'))"
   ]
  },
  {
   "cell_type": "code",
   "execution_count": 56,
   "id": "d8d91ceb-fad1-403e-9881-9610b242e19d",
   "metadata": {},
   "outputs": [],
   "source": [
    "sc=pickle.load(open('SCFile.sav','rb'))\n",
    "scy=pickle.load(open('SCyYFile.sav','rb'))"
   ]
  },
  {
   "cell_type": "code",
   "execution_count": 57,
   "id": "250967a1-080f-467e-9241-be2a20a7fa00",
   "metadata": {},
   "outputs": [],
   "source": [
    "sc1=sc.fit_transform([[345,654,234,0,0]])"
   ]
  },
  {
   "cell_type": "code",
   "execution_count": 65,
   "id": "0ed2d275-9f3f-48cd-997b-c9837cefd351",
   "metadata": {},
   "outputs": [],
   "source": [
    "result=load.predict(sc1)"
   ]
  },
  {
   "cell_type": "code",
   "execution_count": 66,
   "id": "a8b42483-052d-4c6e-a96e-82779582a3fe",
   "metadata": {},
   "outputs": [
    {
     "data": {
      "text/plain": [
       "array([-4.4408921e-17])"
      ]
     },
     "execution_count": 66,
     "metadata": {},
     "output_type": "execute_result"
    }
   ],
   "source": [
    "result"
   ]
  },
  {
   "cell_type": "code",
   "execution_count": 72,
   "id": "dbcb574d-5cf8-4fe4-a18a-e3d1eb677f1d",
   "metadata": {},
   "outputs": [],
   "source": [
    "scy1=scy.inverse_transform([result])"
   ]
  },
  {
   "cell_type": "code",
   "execution_count": 73,
   "id": "222b0a3e-08e6-44c7-86d0-edf49db5396b",
   "metadata": {},
   "outputs": [
    {
     "data": {
      "text/plain": [
       "array([[110225.32057143]])"
      ]
     },
     "execution_count": 73,
     "metadata": {},
     "output_type": "execute_result"
    }
   ],
   "source": [
    "scy1"
   ]
  },
  {
   "cell_type": "code",
   "execution_count": null,
   "id": "2b6ebe51-1313-4712-80e9-e0f462252cff",
   "metadata": {},
   "outputs": [],
   "source": []
  },
  {
   "cell_type": "code",
   "execution_count": null,
   "id": "2a4bbb57-a4be-4fd6-8b85-195a4c22fd2c",
   "metadata": {},
   "outputs": [],
   "source": []
  }
 ],
 "metadata": {
  "kernelspec": {
   "display_name": "Python 3 (ipykernel)",
   "language": "python",
   "name": "python3"
  },
  "language_info": {
   "codemirror_mode": {
    "name": "ipython",
    "version": 3
   },
   "file_extension": ".py",
   "mimetype": "text/x-python",
   "name": "python",
   "nbconvert_exporter": "python",
   "pygments_lexer": "ipython3",
   "version": "3.12.4"
  }
 },
 "nbformat": 4,
 "nbformat_minor": 5
}
